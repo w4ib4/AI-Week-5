{
  "nbformat": 4,
  "nbformat_minor": 0,
  "metadata": {
    "colab": {
      "provenance": []
    },
    "kernelspec": {
      "name": "python3",
      "display_name": "Python 3"
    },
    "language_info": {
      "name": "python"
    }
  },
  "cells": [
    {
      "cell_type": "markdown",
      "source": [
        "Example 1:"
      ],
      "metadata": {
        "id": "bgf68TuqS8d1"
      }
    },
    {
      "cell_type": "code",
      "source": [
        "import numpy as np\n",
        "list_x=[1,2,3,4] #python list\n",
        "array = np.array([1, 2, 3, 4, 5, 6]) # single dimensional array\n",
        "matrix = np.array([[1, 2, 3, 4],[5, 6, 7, 8], [9, 10, 11, 12]]) # nD array\n",
        "print(array[0])\n",
        "print(matrix[1])\n",
        "matrix[1,2]"
      ],
      "metadata": {
        "colab": {
          "base_uri": "https://localhost:8080/"
        },
        "id": "8ch8PMmVS_QP",
        "outputId": "63fb2e7f-1fab-460f-dd65-ed5d5f7a71af"
      },
      "execution_count": null,
      "outputs": [
        {
          "output_type": "stream",
          "name": "stdout",
          "text": [
            "1\n",
            "[5 6 7 8]\n"
          ]
        },
        {
          "output_type": "execute_result",
          "data": {
            "text/plain": [
              "7"
            ]
          },
          "metadata": {},
          "execution_count": 4
        }
      ]
    },
    {
      "cell_type": "markdown",
      "source": [
        "Example 2:"
      ],
      "metadata": {
        "id": "X6yHwEdJUNAy"
      }
    },
    {
      "cell_type": "code",
      "source": [
        "l=[]\n",
        "for i in range(1,5):\n",
        "    int_1=int(input(\"Enter :\"))\n",
        "    l.append(int_1)\n",
        "    print(np.array([l]))\n",
        "    print(np.ndim(l))\n",
        "    print(np.shape(45))"
      ],
      "metadata": {
        "colab": {
          "base_uri": "https://localhost:8080/"
        },
        "id": "4WBKEevgUPXq",
        "outputId": "63bee577-e2a6-4461-c1dc-408aa0504a0d"
      },
      "execution_count": null,
      "outputs": [
        {
          "output_type": "stream",
          "name": "stdout",
          "text": [
            "Enter :3\n",
            "[[3]]\n",
            "1\n",
            "()\n",
            "Enter :4\n",
            "[[3 4]]\n",
            "1\n",
            "()\n",
            "Enter :6\n",
            "[[3 4 6]]\n",
            "1\n",
            "()\n",
            "Enter :7\n",
            "[[3 4 6 7]]\n",
            "1\n",
            "()\n"
          ]
        }
      ]
    },
    {
      "cell_type": "markdown",
      "source": [
        "Example 3:"
      ],
      "metadata": {
        "id": "9wA-GMVPVVMP"
      }
    },
    {
      "cell_type": "code",
      "source": [
        "# arr_zero=np.zeros(4)\n",
        "# print(arr_zero)\n",
        "# arr_zero=np.zeros([3,4])\n",
        "# print(arr_zero)\n",
        "# arr_ones=np.ones(3)\n",
        "# print(arr_ones)\n",
        "# arr_em=np.empty(4)\n",
        "# print(arr_em)\n",
        "# arr_rn=np.arange(4)\n",
        "# print(arr_rn)\n",
        "# arr_dia=np.eye(3)\n",
        "# print(arr_dia)\n",
        "# arr_lin=np.linspace(0,20,num=5)\n",
        "# print(arr_lin)\n",
        "# arr_rand1=np.random.rand(4)\n",
        "# print(arr_rand1)\n",
        "# arr_rand2=np.random.rand(2,5)\n",
        "# print(arr_rand2)\n",
        "ar_rand3=np.random.randint(5,20,2)# randint(min, max, number_of_item)\n",
        "print(ar_rand3)"
      ],
      "metadata": {
        "colab": {
          "base_uri": "https://localhost:8080/"
        },
        "id": "h6nLvuNHVWs9",
        "outputId": "e909ec37-9a58-49b2-ea10-0fd3c5d5831f"
      },
      "execution_count": null,
      "outputs": [
        {
          "output_type": "stream",
          "name": "stdout",
          "text": [
            "[19 16]\n"
          ]
        }
      ]
    },
    {
      "cell_type": "markdown",
      "source": [
        "Example 4: Arithmetic Operation"
      ],
      "metadata": {
        "id": "XUdgi7-5Xpa8"
      }
    },
    {
      "cell_type": "code",
      "source": [
        "#addition and subtraction\n",
        "arr1 = np.array([[12,34],[44,22]])\n",
        "arr2 = np.array([[1,34],[0,22]])\n",
        "arr3 = np.add(arr1,arr2)\n",
        "arr4 = np.subtract(arr1,arr2)\n",
        "print(arr3)\n",
        "print(arr4)"
      ],
      "metadata": {
        "colab": {
          "base_uri": "https://localhost:8080/"
        },
        "id": "tjLPUqpeXswv",
        "outputId": "6f629db2-b413-4331-ef74-4ea5e9798c10"
      },
      "execution_count": null,
      "outputs": [
        {
          "output_type": "stream",
          "name": "stdout",
          "text": [
            "[[13 68]\n",
            " [44 44]]\n",
            "[[11  0]\n",
            " [44  0]]\n"
          ]
        }
      ]
    },
    {
      "cell_type": "markdown",
      "source": [
        "Example 5: Arithmetic Operation"
      ],
      "metadata": {
        "id": "_ljZcwLlX7dL"
      }
    },
    {
      "cell_type": "code",
      "source": [
        "arr1 = np.array([[1,2,3],[2,3,4],[2,3,4]])\n",
        "arr2 = np.array([[21,4],[2,1],[2,3]])\n",
        "arr3 = np.dot(arr1, arr2)\n",
        "arr4 = np.matmul(arr1, arr2)\n",
        "print(arr3)\n",
        "print(arr4)"
      ],
      "metadata": {
        "colab": {
          "base_uri": "https://localhost:8080/"
        },
        "id": "te4magnkYBnP",
        "outputId": "bded638f-70b2-4f59-d78a-7774cd8cf894"
      },
      "execution_count": null,
      "outputs": [
        {
          "output_type": "stream",
          "name": "stdout",
          "text": [
            "[[31 15]\n",
            " [56 23]\n",
            " [56 23]]\n",
            "[[31 15]\n",
            " [56 23]\n",
            " [56 23]]\n"
          ]
        }
      ]
    },
    {
      "cell_type": "markdown",
      "source": [
        "Example 6: Arrays with Matplotlib"
      ],
      "metadata": {
        "id": "vu6tOns_ZA4s"
      }
    },
    {
      "cell_type": "code",
      "source": [
        "import matplotlib.pyplot as plt\n",
        "x = np.linspace(0, 5, 20)\n",
        "y = np.linspace(0, 10, 20)\n",
        "plt.plot(x, y, 'purple') # line\n",
        "plt.xlabel(\"X-axis\")\n",
        "plt.ylabel(\"Y-axis\")\n",
        "plt.title(\"Demo graph\")\n",
        "plt.plot(x, y, 'o')"
      ],
      "metadata": {
        "colab": {
          "base_uri": "https://localhost:8080/",
          "height": 490
        },
        "id": "SoCCfjOkZF9_",
        "outputId": "93d3e457-9e1b-4ba2-8ca7-fe7ed0fc35b5"
      },
      "execution_count": null,
      "outputs": [
        {
          "output_type": "execute_result",
          "data": {
            "text/plain": [
              "[<matplotlib.lines.Line2D at 0x797a067a3550>]"
            ]
          },
          "metadata": {},
          "execution_count": 25
        },
        {
          "output_type": "display_data",
          "data": {
            "text/plain": [
              "<Figure size 640x480 with 1 Axes>"
            ],
            "image/png": "[encoded data removed]"
          },
          "metadata": {}
        }
      ]
    },
    {
      "cell_type": "markdown",
      "source": [
        "Example 7: Create two vectors in 2-dimensional (2D) space and plot them using Matplotlib."
      ],
      "metadata": {
        "id": "1IUG0d9tZhiU"
      }
    },
    {
      "cell_type": "code",
      "source": [
        "V = np.array([1,1])\n",
        "W = np.array([-2.0,-1])\n",
        "import numpy as np\n",
        "import matplotlib.pyplot as plt\n",
        "\"\"\" Problem 2: Create 2-dimensional position vectors and plot them. \"\"\"\n",
        "origin = np.array([0,0])\n",
        "V = np.array([1,1])\n",
        "W = np.array([-2.0,-1])\n",
        "fig, ax = plt.subplots()\n",
        "# Add vectors V and W to the plot\n",
        "ax.quiver(origin[0], origin[1], V[0], V[1], angles='xy', scale_units='xy', scale=1, color='r')\n",
        "ax.quiver(origin[0], origin[1], W[0], W[1], angles='xy', scale_units='xy', scale=1, color='b')\n",
        "ax.text(origin[0]-0.1, origin[1]+0.1, \"O\")\n",
        "ax.text(V[0], V[1], \"v\")\n",
        "ax.text(W[0]-0.125, W[1]-0.1, \"w\")\n",
        "ax.set_xlim([-3, 3])\n",
        "ax.set_ylim([-3, 3])\n",
        "ax.set_xlabel('X')\n",
        "ax.set_ylabel('Y')\n",
        "plt.grid()\n",
        "plt.show()"
      ],
      "metadata": {
        "colab": {
          "base_uri": "https://localhost:8080/",
          "height": 455
        },
        "id": "ceXukt3vZpIr",
        "outputId": "7620e8fa-095f-4727-c66b-7519418ba4a5"
      },
      "execution_count": null,
      "outputs": [
        {
          "output_type": "display_data",
          "data": {
            "text/plain": [
              "<Figure size 640x480 with 1 Axes>"
            ],
            "image/png": "[encoded data removed]"
          },
          "metadata": {}
        }
      ]
    },
    {
      "cell_type": "markdown",
      "source": [
        "Task c"
      ],
      "metadata": {
        "id": "mCT4nPB2aUpu"
      }
    },
    {
      "cell_type": "code",
      "source": [
        "import numpy as np\n",
        "\n",
        "def magnitude(vector):\n",
        "    return np.linalg.norm(vector)\n",
        "U = (1.5, 1.5, 2.0)\n",
        "print(\"Magnitude of U:\", magnitude(U))\n"
      ],
      "metadata": {
        "colab": {
          "base_uri": "https://localhost:8080/"
        },
        "id": "UE9540VnaWy9",
        "outputId": "a7d2fd27-6931-42e7-9823-3bb97ef4110b"
      },
      "execution_count": null,
      "outputs": [
        {
          "output_type": "stream",
          "name": "stdout",
          "text": [
            "Magnitude of U: 2.9154759474226504\n"
          ]
        }
      ]
    },
    {
      "cell_type": "markdown",
      "source": [
        "Task d"
      ],
      "metadata": {
        "id": "pjky4nq8ag9A"
      }
    },
    {
      "cell_type": "code",
      "source": [
        "def direction_cosines(vector):\n",
        "    mag = magnitude(vector)\n",
        "    return tuple(component / mag for component in vector)\n",
        "O = (1.5, 1.5, 2.0)\n",
        "print(\"Direction cosines of O:\", direction_cosines(O))\n"
      ],
      "metadata": {
        "colab": {
          "base_uri": "https://localhost:8080/"
        },
        "id": "Q2dWGsp2aiA_",
        "outputId": "e89d83ad-ceab-4477-c45c-381cc471f429"
      },
      "execution_count": null,
      "outputs": [
        {
          "output_type": "stream",
          "name": "stdout",
          "text": [
            "Direction cosines of O: (0.5144957554275265, 0.5144957554275265, 0.6859943405700353)\n"
          ]
        }
      ]
    },
    {
      "cell_type": "markdown",
      "source": [
        "Task e"
      ],
      "metadata": {
        "id": "p-S75vrXaqTQ"
      }
    },
    {
      "cell_type": "code",
      "source": [
        "def dot_product(vector1, vector2):\n",
        "    return np.dot(vector1, vector2)\n",
        "a = (1.5, 1.5, 2.0)\n",
        "b = (-1.5, 0.5, 2.0)\n",
        "print(\"Dot product of a and b:\", dot_product(a, b))\n"
      ],
      "metadata": {
        "colab": {
          "base_uri": "https://localhost:8080/"
        },
        "id": "VlBvQ1R6arh4",
        "outputId": "58982f1a-8364-4f78-f457-d04e77237312"
      },
      "execution_count": null,
      "outputs": [
        {
          "output_type": "stream",
          "name": "stdout",
          "text": [
            "Dot product of a and b: 2.5\n"
          ]
        }
      ]
    },
    {
      "cell_type": "markdown",
      "source": [
        "Task f"
      ],
      "metadata": {
        "id": "fKP0tOJua_Is"
      }
    },
    {
      "cell_type": "code",
      "source": [
        "def cross_product(vector1, vector2):\n",
        "    return np.cross(vector1, vector2)\n",
        "a = (1.5, 1.5, 2.0)\n",
        "b = (-1.5, 0.5, 2.0)\n",
        "print(\"Cross product of a and b:\", cross_product(a, b))\n"
      ],
      "metadata": {
        "colab": {
          "base_uri": "https://localhost:8080/"
        },
        "id": "nIvKbSuwbAof",
        "outputId": "f261be28-2bd6-4300-a520-cb1b1655f12a"
      },
      "execution_count": null,
      "outputs": [
        {
          "output_type": "stream",
          "name": "stdout",
          "text": [
            "Cross product of a and b: [ 2. -6.  3.]\n"
          ]
        }
      ]
    },
    {
      "cell_type": "markdown",
      "source": [
        "Task 5: Prepare X and Y coordinates values for the function f(x) = 4x2+2 using NumPy array and plot\n",
        "the graph using Matplotlib."
      ],
      "metadata": {
        "id": "Vn-583l0d6Io"
      }
    },
    {
      "cell_type": "code",
      "source": [
        "import numpy as np\n",
        "import matplotlib.pyplot as plt\n",
        "x = np.linspace(-10, 10, 400)\n",
        "y = 4 * x**2 + 2\n",
        "plt.plot(x, y, label='f(x) = 4x^2 + 2')\n",
        "plt.xlabel('X')\n",
        "plt.ylabel('f(x)')\n",
        "plt.title('Graph of the function f(x) = 4x^2 + 2')\n",
        "plt.legend()\n",
        "plt.grid(True)\n",
        "plt.show()\n"
      ],
      "metadata": {
        "colab": {
          "base_uri": "https://localhost:8080/",
          "height": 472
        },
        "id": "bBCrQLgrd_Vk",
        "outputId": "cb0f8916-fe87-49a3-df8e-95bd9dc3e156"
      },
      "execution_count": null,
      "outputs": [
        {
          "output_type": "display_data",
          "data": {
            "text/plain": [
              "<Figure size 640x480 with 1 Axes>"
            ],
            "image/png": "[encoded data removed]"
          },
          "metadata": {}
        }
      ]
    },
    {
      "cell_type": "markdown",
      "source": [],
      "metadata": {
        "id": "Z0EhWu_Md5_3"
      }
    }
  ]
}